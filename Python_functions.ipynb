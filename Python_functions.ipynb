{
 "cells": [
  {
   "cell_type": "code",
   "execution_count": 2,
   "metadata": {},
   "outputs": [
    {
     "name": "stdout",
     "output_type": "stream",
     "text": [
      "Hi\n",
      "How are you?\n"
     ]
    }
   ],
   "source": [
    "def greet():\n",
    "    print('Hi')\n",
    "    print('How are you?')\n",
    "    \n",
    "greet()"
   ]
  },
  {
   "cell_type": "code",
   "execution_count": 5,
   "metadata": {},
   "outputs": [
    {
     "name": "stdout",
     "output_type": "stream",
     "text": [
      "Hello Krishnamurthy Welcome to our webpage\n"
     ]
    }
   ],
   "source": [
    "def welcome(fname):\n",
    "    print('Hello ' + fname + ' Welcome to our webpage')\n",
    "welcome('Krishnamurthy')"
   ]
  },
  {
   "cell_type": "code",
   "execution_count": 7,
   "metadata": {},
   "outputs": [
    {
     "name": "stdout",
     "output_type": "stream",
     "text": [
      "Hello Tam Welcome to our webpage\n"
     ]
    }
   ],
   "source": [
    "# multiple names  #* for multiple arguments within the function \n",
    "\n",
    "def enter(*name):\n",
    "     print('Hello ' + name[1] + ' Welcome to our webpage')\n",
    "enter('krish', 'Tam', 'Raj')"
   ]
  },
  {
   "cell_type": "code",
   "execution_count": null,
   "metadata": {},
   "outputs": [],
   "source": [
    "# ** when you dont' know how many keyword args are passed\n",
    "def enter(**person):\n",
    "     print('Hello ' + person['fname']  + ' Welcome to our webpage')\n",
    "        print('Hope your doing well ' + person['lname'])\n",
    "        \n",
    "enter(fname='krish', lname='Tam')"
   ]
  },
  {
   "cell_type": "markdown",
   "metadata": {},
   "source": [
    "# numpy and pandas"
   ]
  },
  {
   "cell_type": "code",
   "execution_count": 2,
   "metadata": {},
   "outputs": [],
   "source": [
    "import numpy as np\n",
    "import pandas as pd"
   ]
  },
  {
   "cell_type": "code",
   "execution_count": 10,
   "metadata": {},
   "outputs": [
    {
     "name": "stdout",
     "output_type": "stream",
     "text": [
      "    Name  Age      Work\n",
      "0  Krish   22        IT\n",
      "1    Tam   29  Mechanic\n",
      "2    Raj   23      Self\n"
     ]
    }
   ],
   "source": [
    "student_dict = {'Name':['Krish', 'Tam', 'Raj'], 'Age':[22,29,23], 'Work':['IT', 'Mechanic','Self']}\n",
    "\n",
    "#create dataframe\n",
    "df1 = pd.DataFrame(student_dict)\n",
    "print(df1)"
   ]
  },
  {
   "cell_type": "code",
   "execution_count": 13,
   "metadata": {},
   "outputs": [
    {
     "name": "stdout",
     "output_type": "stream",
     "text": [
      "    Name  Age      Work Location\n",
      "0  Krish   22        IT      chn\n",
      "1    Tam   29  Mechanic    Dhara\n",
      "2    Raj   23      Self     Chen\n"
     ]
    }
   ],
   "source": [
    "# adding new coloumn\n",
    "address = {'chn':'Krish', 'Dhara':'Tam', 'Chen':'Raj'}\n",
    "df1['Location'] = address\n",
    "print(df1)"
   ]
  },
  {
   "cell_type": "code",
   "execution_count": null,
   "metadata": {},
   "outputs": [],
   "source": []
  },
  {
   "cell_type": "code",
   "execution_count": null,
   "metadata": {},
   "outputs": [],
   "source": []
  },
  {
   "cell_type": "code",
   "execution_count": null,
   "metadata": {},
   "outputs": [],
   "source": []
  },
  {
   "cell_type": "code",
   "execution_count": null,
   "metadata": {},
   "outputs": [],
   "source": []
  },
  {
   "cell_type": "code",
   "execution_count": null,
   "metadata": {},
   "outputs": [],
   "source": []
  }
 ],
 "metadata": {
  "kernelspec": {
   "display_name": "Python 3",
   "language": "python",
   "name": "python3"
  },
  "language_info": {
   "codemirror_mode": {
    "name": "ipython",
    "version": 3
   },
   "file_extension": ".py",
   "mimetype": "text/x-python",
   "name": "python",
   "nbconvert_exporter": "python",
   "pygments_lexer": "ipython3",
   "version": "3.7.3"
  }
 },
 "nbformat": 4,
 "nbformat_minor": 2
}
